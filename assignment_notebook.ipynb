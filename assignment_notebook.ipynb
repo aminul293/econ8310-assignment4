{
 "cells": [
  {
   "cell_type": "markdown",
   "id": "8e649671-64ae-4692-a381-33974ffa666a",
   "metadata": {},
   "source": [
    "# Assignment 4\n",
    "## Econ 8310 - Business Forecasting\n",
    "\n",
    "This assignment will make use of the bayesian statistical models covered in Lessons 10 to 12. \n",
    "\n",
    "A/B Testing is a critical concept in data science, and for many companies one of the most relevant applications of data-driven decision-making. In order to improve product offerings, marketing campaigns, user interfaces, and many other user-facing interactions, scientists and engineers create experiments to determine the efficacy of proposed changes. Users are then randomly assigned to either the treatment or control group, and their behavior is recorded.\n",
    "If the changes that the treatment group is exposed to can be measured to have a benefit in the metric of interest, then those changes are scaled up and rolled out to across all interactions.\n",
    "Below is a short video detailing the A/B Testing process, in case you want to learn a bit more:\n",
    "[https://youtu.be/DUNk4GPZ9bw](https://youtu.be/DUNk4GPZ9bw)\n",
    "\n",
    "For this assignment, you will use an A/B test data set, which was pulled from the Kaggle website (https://www.kaggle.com/datasets/yufengsui/mobile-games-ab-testing). I have added the data from the page into Codio for you. It can be found in the cookie_cats.csv file in the file tree. It can also be found at [https://github.com/dustywhite7/Econ8310/raw/master/AssignmentData/cookie_cats.csv](https://github.com/dustywhite7/Econ8310/raw/master/AssignmentData/cookie_cats.csv)\n",
    "\n",
    "The variables are defined as follows:\n",
    "\n",
    "| Variable Name  | Definition |\n",
    "|----------------|----|\n",
    "| userid         | A unique number that identifies each player  |\n",
    "| version        | Whether the player was put in the control group (gate_30 - a gate at level 30) or the group with the moved gate (gate_40 - a gate at level 40) |\n",
    "| sum_gamerounds | The number of game rounds played by the player during the first 14 days after install.  |\n",
    "| retention1     | Did the player come back and play 1 day after installing?     |\n",
    "| retention7     | Did the player come back and play 7 days after installing?    |               "
   ]
  },
  {
   "cell_type": "markdown",
   "id": "a7d4d9ba-5349-4ae6-833b-8cea780510d2",
   "metadata": {},
   "source": [
    "### The questions\n",
    "\n",
    "You will be asked to answer the following questions in a small quiz on Canvas:\n",
    "1. What was the effect of moving the gate from level 30 to level 40 on 1-day retention rates?\n",
    "2. What was the effect of moving the gate from level 30 to level 40 on 7-day retention rates?\n",
    "3. What was the biggest challenge for you in completing this assignment?\n",
    "\n",
    "You will also be asked to submit a URL to your forked GitHub repository containing your code used to answer these questions."
   ]
  },
  {
   "cell_type": "code",
   "execution_count": null,
   "id": "dd7c830a",
   "metadata": {},
   "outputs": [],
   "source": [
    "import pandas as pd\n",
    "import matplotlib.pyplot as plt\n",
    "import seaborn as sns\n",
    "url = \"https://github.com/dustywhite7/Econ8310/raw/master/AssignmentData/cookie_cats.csv\"\n",
    "df = pd.read_csv(url)\n",
    "print(df.head())\n"
   ]
  },
  {
   "cell_type": "code",
   "execution_count": null,
   "id": "ccad8664",
   "metadata": {},
   "outputs": [],
   "source": [
    "# Count and display the number of unique players\n",
    "print(\"Number of players: \\n\", df.userid.nunique(), '\\n',\n",
    "        \"Number of records: \\n\", len(df.userid),'\\n')"
   ]
  },
  {
   "cell_type": "code",
   "execution_count": null,
   "id": "c9d07c3a",
   "metadata": {},
   "outputs": [],
   "source": [
    "df.(dtypes)"
   ]
  },
  {
   "cell_type": "code",
   "execution_count": null,
   "id": "062a7b21",
   "metadata": {},
   "outputs": [],
   "source": [
    "# Convert boolean to integer (True → 1, False → 0)\n",
    "df['retention_1'] = df['retention_1'].astype(int)\n",
    "df['retention_7'] = df['retention_7'].astype(int)\n",
    "\n",
    "# Check if it's correct\n",
    "df[['retention_1', 'retention_7']].dtypes\n"
   ]
  },
  {
   "cell_type": "code",
   "execution_count": null,
   "id": "075842bf",
   "metadata": {},
   "outputs": [],
   "source": [
    "# Control group (gate_30)\n",
    "control = df[df['version'] == 'gate_30']\n",
    "\n",
    "# Treatment group (gate_40)\n",
    "treatment = df[df['version'] == 'gate_40']\n"
   ]
  },
  {
   "cell_type": "code",
   "execution_count": null,
   "id": "c0bf3ca6",
   "metadata": {},
   "outputs": [],
   "source": [
    "print(df.info())\n",
    "print(df['version'].value_counts())\n",
    "print(df[['retention_1', 'retention_7']].mean())\n"
   ]
  },
  {
   "cell_type": "code",
   "execution_count": null,
   "id": "6ae4bcc0",
   "metadata": {},
   "outputs": [],
   "source": [
    "# 1-day retention rate by group\n",
    "retention_1_rates = df.groupby('version')['retention_1'].mean() * 100\n",
    "# 7-day retention rate by group\n",
    "retention_7_rates = df.groupby('version')['retention_7'].mean() * 100\n",
    "\n",
    "print(\"1-day retention rates (%):\\n\", retention_1_rates)\n",
    "print(\"7-day retention rates (%):\\n\", retention_7_rates)\n"
   ]
  },
  {
   "cell_type": "code",
   "execution_count": null,
   "id": "948dc809",
   "metadata": {},
   "outputs": [],
   "source": [
    "import numpy as np\n",
    "import matplotlib.pyplot as plt\n",
    "from scipy.stats import beta\n",
    "\n",
    "# Get successes and trials for each group\n",
    "for group in ['gate_30', 'gate_40']:\n",
    "    successes = df[df['version'] == group]['retention_1'].sum()\n",
    "    trials = df[df['version'] == group]['retention_1'].count()\n",
    "    print(f\"{group}: {successes} successes out of {trials} trials\")\n",
    "\n",
    "# Example for 1-day retention\n",
    "successes_30 = df[df['version'] == 'gate_30']['retention_1'].sum()\n",
    "trials_30 = df[df['version'] == 'gate_30']['retention_1'].count()\n",
    "successes_40 = df[df['version'] == 'gate_40']['retention_1'].sum()\n",
    "trials_40 = df[df['version'] == 'gate_40']['retention_1'].count()\n",
    "\n",
    "# Posterior distributions\n",
    "x = np.linspace(0, 0.6, 1000)\n",
    "posterior_30 = beta(successes_30 + 1, trials_30 - successes_30 + 1)\n",
    "posterior_40 = beta(successes_40 + 1, trials_40 - successes_40 + 1)\n",
    "\n",
    "plt.plot(x, posterior_30.pdf(x), label='gate_30')\n",
    "plt.plot(x, posterior_40.pdf(x), label='gate_40')\n",
    "plt.xlabel('Retention Rate')\n",
    "plt.ylabel('Density')\n",
    "plt.title('Posterior Distributions for 1-Day Retention')\n",
    "plt.legend()\n",
    "plt.show()\n"
   ]
  },
  {
   "cell_type": "code",
   "execution_count": null,
   "id": "af928304",
   "metadata": {},
   "outputs": [],
   "source": [
    "# Calculating 1-day retention for each AB-group\n",
    "\n",
    "# CONTROL GROUP\n",
    "prop_gate30 = len(players_g30[players_g30['retention_1'] == True])/len(players_g30['retention_1']) * 100\n",
    "\n",
    "# TREATMENT GROUP\n",
    "prop_gate40 = len(players_g40[players_g40['retention_1'] == True])/len(players_g40['retention_1']) * 100\n",
    "\n",
    "print('Group 30 at 1 day retention: ',str(round(prop_gate30,2)),\"%\",\"\\n\",\n",
    "     'Group 40 at 1 day retention: ',str(round(prop_gate40,2)),\"%\")"
   ]
  },
  {
   "cell_type": "code",
   "execution_count": null,
   "id": "fa463cfe",
   "metadata": {},
   "outputs": [],
   "source": [
    "# Calculating 1-day retention for each AB-group\n",
    "\n",
    "# CONTROL GROUP\n",
    "prop_gate30 = len(players_g30[players_g30['retention_7'] == True])/len(players_g30['retention_1']) * 100\n",
    "\n",
    "# TREATMENT GROUP\n",
    "prop_gate40 = len(players_g40[players_g40['retention_7'] == True])/len(players_g40['retention_1']) * 100\n",
    "\n",
    "print('Group 30 at 1 day retention: ',str(round(prop_gate30,2)),\"%\",\"\\n\",\n",
    "     'Group 40 at 1 day retention: ',str(round(prop_gate40,2)),\"%\")"
   ]
  },
  {
   "cell_type": "code",
   "execution_count": null,
   "id": "9c313d93",
   "metadata": {},
   "outputs": [],
   "source": [
    "# The % of users that came back the day after they installed\n",
    "prop = len(df[df['retention_1'] == True]) / len(df['retention_1']) * 100\n",
    "\n",
    "print(\"The overall retention for 1 day is: \", str(round(prop,2)),\"%\")"
   ]
  },
  {
   "cell_type": "code",
   "execution_count": null,
   "id": "f2da4159",
   "metadata": {},
   "outputs": [],
   "source": [
    "# The % of users that came back the day after they installed\n",
    "prop = len(df[df['retention_7'] == True]) / len(df['retention_7']) * 100\n",
    "\n",
    "print(\"The overall retention for 7 day is: \", str(round(prop,2)),\"%\")"
   ]
  },
  {
   "cell_type": "code",
   "execution_count": null,
   "id": "9c2b7552",
   "metadata": {},
   "outputs": [],
   "source": [
    "import matplotlib.pyplot as plt\n",
    "\n",
    "# Calculate means\n",
    "means = df.groupby('version')[['retention_1', 'retention_7']].mean().reset_index()\n",
    "\n",
    "# Bar plot for 1-day and 7-day retention\n",
    "fig, ax = plt.subplots(1, 2, figsize=(10,5))\n",
    "\n",
    "# 1-day retention\n",
    "ax[0].bar(means['version'], means['retention_1'], color=['skyblue', 'orange'])\n",
    "ax[0].set_title('1-Day Retention Rate')\n",
    "ax[0].set_ylabel('Retention Rate')\n",
    "ax[0].set_ylim(0, 0.5)\n",
    "\n",
    "# 7-day retention\n",
    "ax[1].bar(means['version'], means['retention_7'], color=['skyblue', 'orange'])\n",
    "ax[1].set_title('7-Day Retention Rate')\n",
    "ax[1].set_ylim(0, 0.25)\n",
    "\n",
    "plt.tight_layout()\n",
    "plt.show()\n"
   ]
  },
  {
   "cell_type": "code",
   "execution_count": null,
   "id": "65b6aa21",
   "metadata": {},
   "outputs": [],
   "source": [
    "import numpy as np\n",
    "\n",
    "# Simulate samples from the Beta posteriors\n",
    "samples_30 = np.random.beta(successes_30 + 1, trials_30 - successes_30 + 1, 100000)\n",
    "samples_40 = np.random.beta(successes_40 + 1, trials_40 - successes_40 + 1, 100000)\n",
    "diff = samples_30 - samples_40\n",
    "\n",
    "plt.hist(diff, bins=50, color='purple', alpha=0.7)\n",
    "plt.title('Posterior Distribution of the Difference (gate_30 - gate_40)\\n1-Day Retention')\n",
    "plt.xlabel('Difference in Retention Rate')\n",
    "plt.ylabel('Frequency')\n",
    "plt.axvline(0, color='black', linestyle='--')\n",
    "plt.show()\n"
   ]
  }
 ],
 "metadata": {
  "kernelspec": {
   "display_name": "Python 3 (ipykernel)",
   "language": "python",
   "name": "python3"
  },
  "language_info": {
   "codemirror_mode": {
    "name": "ipython",
    "version": 3
   },
   "file_extension": ".py",
   "mimetype": "text/x-python",
   "name": "python",
   "nbconvert_exporter": "python",
   "pygments_lexer": "ipython3",
   "version": "3.9.13"
  }
 },
 "nbformat": 4,
 "nbformat_minor": 5
}
